{
 "cells": [
  {
   "cell_type": "markdown",
   "metadata": {},
   "source": [
    "# Make the process with big computer /  with ram > 60gb (cause the datafile is big )"
   ]
  },
  {
   "cell_type": "code",
   "execution_count": null,
   "metadata": {},
   "outputs": [],
   "source": [
    "from molSimplify.Classes.mol3D import mol3D\n",
    "import pandas as pd\n",
    "from tqdm import tqdm\n",
    "import pyarrow.parquet as pq\n",
    "\n",
    "# Specify the file path\n",
    "file_path = 'data/train.parquet'\n",
    "\n",
    "# Create an empty list to store chunks\n",
    "chunks = []\n",
    "\n",
    "# Open the Parquet file\n",
    "parquet_file = pq.ParquetFile(file_path)\n",
    "\n",
    "# Get the number of row groups (chunks)\n",
    "num_chunks = parquet_file.num_row_groups\n",
    "\n",
    "# Create a progress bar\n",
    "pbar = tqdm(total=num_chunks)\n",
    "\n",
    "# Iterate over chunks and append to the list\n",
    "for i in range(num_chunks):\n",
    "    chunk = parquet_file.read_row_group(i).to_pandas()\n",
    "    chunks.append(chunk)\n",
    "    \n",
    "    # Update the progress bar\n",
    "    pbar.update(1)\n",
    "\n",
    "# Close the progress bar\n",
    "pbar.close()\n",
    "\n",
    "# Concatenate all chunks into a single DataFrame\n",
    "df = pd.concat(chunks, ignore_index=True)\n",
    "\n",
    "# Print a small part of the DataFrame\n",
    "print(df.head(), df.tail())"
   ]
  },
  {
   "cell_type": "markdown",
   "metadata": {},
   "source": [
    "# If you want to run on a smaller computer, it will run code by chunks."
   ]
  },
  {
   "cell_type": "code",
   "execution_count": null,
   "metadata": {},
   "outputs": [],
   "source": [
    "from molSimplify.Classes.mol3D import mol3D\n",
    "import pandas as pd\n",
    "from tqdm import tqdm\n",
    "import pyarrow.parquet as pq\n",
    "\n",
    "# Specify the file path\n",
    "file_path = 'data/train.parquet'\n",
    "\n",
    "# Open the Parquet file\n",
    "parquet_file = pq.ParquetFile(file_path)\n",
    "\n",
    "# Get the number of row groups (chunks)\n",
    "num_chunks = parquet_file.num_row_groups\n",
    "\n",
    "# Create a progress bar\n",
    "pbar = tqdm(total=num_chunks)\n",
    "\n",
    "# Iterate over chunks\n",
    "for i in range(num_chunks): # TODO : see if it's needed to iterate over chunks (we should create a function that change the chunk and return a dataframe)\n",
    "    chunk = parquet_file.read_row_group(i).to_pandas()\n",
    "    \n",
    "    # TODO Process the chunk here to create small dataframe (e.g., compute statistics, filter rows, etc.)\n",
    "    # ...\n",
    "\n",
    "    # Update the progress bar\n",
    "    pbar.update(1)\n",
    "\n",
    "# Close the progress bar\n",
    "pbar.close()"
   ]
  },
  {
   "cell_type": "markdown",
   "metadata": {},
   "source": [
    "# TODO: Make the same as the commented code bellow but with `molecule_smiles` instead of `propane_molecule`"
   ]
  },
  {
   "cell_type": "code",
   "execution_count": 16,
   "metadata": {},
   "outputs": [],
   "source": [
    "'''\n",
    "head -n 5 ./data/train.csv \n",
    "id,buildingblock1_smiles,buildingblock2_smiles,buildingblock3_smiles,molecule_smiles,protein_name,binds\n",
    "0,C#CC[C@@H](CC(=O)O)NC(=O)OCC1c2ccccc2-c2ccccc21,C#CCOc1ccc(CN)cc1.Cl,Br.Br.NCC1CCCN1c1cccnn1,C#CCOc1ccc(CNc2nc(NCC3CCCN3c3cccnn3)nc(N[C@@H](CC#C)CC(=O)N[Dy])n2)cc1,BRD4,0\n",
    "1,C#CC[C@@H](CC(=O)O)NC(=O)OCC1c2ccccc2-c2ccccc21,C#CCOc1ccc(CN)cc1.Cl,Br.Br.NCC1CCCN1c1cccnn1,C#CCOc1ccc(CNc2nc(NCC3CCCN3c3cccnn3)nc(N[C@@H](CC#C)CC(=O)N[Dy])n2)cc1,HSA,0\n",
    "2,C#CC[C@@H](CC(=O)O)NC(=O)OCC1c2ccccc2-c2ccccc21,C#CCOc1ccc(CN)cc1.Cl,Br.Br.NCC1CCCN1c1cccnn1,C#CCOc1ccc(CNc2nc(NCC3CCCN3c3cccnn3)nc(N[C@@H](CC#C)CC(=O)N[Dy])n2)cc1,sEH,0\n",
    "3,C#CC[C@@H](CC(=O)O)NC(=O)OCC1c2ccccc2-c2ccccc21,C#CCOc1ccc(CN)cc1.Cl,Br.NCc1cccc(Br)n1,C#CCOc1ccc(CNc2nc(NCc3cccc(Br)n3)nc(N[C@@H](CC#C)CC(=O)N[Dy])n2)cc1,BRD4,0\n",
    "'''\n",
    "# propane_mol = mol3D()          # create a mol3D object\n",
    "# propane_mol.read_smiles('CCC') # read SMILES string into the mol3D object\n",
    "# print(propane_mol.writexyz('', writestring=True)) # Print the xyz file corresponding to propane"
   ]
  }
 ],
 "metadata": {
  "kernelspec": {
   "display_name": "torch",
   "language": "python",
   "name": "python3"
  },
  "language_info": {
   "codemirror_mode": {
    "name": "ipython",
    "version": 3
   },
   "file_extension": ".py",
   "mimetype": "text/x-python",
   "name": "python",
   "nbconvert_exporter": "python",
   "pygments_lexer": "ipython3",
   "version": "3.9.19"
  }
 },
 "nbformat": 4,
 "nbformat_minor": 2
}
